{
  "nbformat": 4,
  "nbformat_minor": 0,
  "metadata": {
    "colab": {
      "provenance": [],
      "authorship_tag": "ABX9TyPxdfVMHyBeqgVEd1h5U+Kl",
      "include_colab_link": true
    },
    "kernelspec": {
      "name": "python3",
      "display_name": "Python 3"
    },
    "language_info": {
      "name": "python"
    }
  },
  "cells": [
    {
      "cell_type": "markdown",
      "metadata": {
        "id": "view-in-github",
        "colab_type": "text"
      },
      "source": [
        "<a href=\"https://colab.research.google.com/github/Hussam3d/Hussam3d/blob/main/first_python_tutorial.ipynb\" target=\"_parent\"><img src=\"https://colab.research.google.com/assets/colab-badge.svg\" alt=\"Open In Colab\"/></a>"
      ]
    },
    {
      "cell_type": "code",
      "execution_count": null,
      "metadata": {
        "id": "IBP0iIA3YRq6"
      },
      "outputs": [],
      "source": []
    },
    {
      "cell_type": "code",
      "source": [],
      "metadata": {
        "id": "IEvHNl_DcmEK"
      },
      "execution_count": null,
      "outputs": []
    },
    {
      "cell_type": "markdown",
      "source": [
        "[Goofle search](https://www.google.com)"
      ],
      "metadata": {
        "id": "Kvql8g1CE-TC"
      }
    },
    {
      "cell_type": "markdown",
      "source": [
        "# This *is* **heading**"
      ],
      "metadata": {
        "id": "7XpeyaEjMImC"
      }
    },
    {
      "cell_type": "markdown",
      "source": [
        "\n",
        "\n",
        "```\n",
        "# This is formatted as code\n",
        "\n",
        "for item in list:\n",
        "\n",
        " print(item)\n",
        "\n",
        "```\n",
        "\n"
      ],
      "metadata": {
        "id": "7GcG17fgcqOG"
      }
    },
    {
      "cell_type": "markdown",
      "source": [
        "$ax^2+bx+c=0 $"
      ],
      "metadata": {
        "id": "TDgApRMAIxR3"
      }
    },
    {
      "cell_type": "code",
      "source": [],
      "metadata": {
        "id": "hNLr3usiJA8f"
      },
      "execution_count": null,
      "outputs": []
    },
    {
      "cell_type": "markdown",
      "source": [
        "$$x1= \\frac {-b + \\sqrt (b^2-4ac)}{2ac}$$\n"
      ],
      "metadata": {
        "id": "ZIroEo2SJjar"
      }
    },
    {
      "cell_type": "code",
      "source": [],
      "metadata": {
        "id": "951lYm_6K36s"
      },
      "execution_count": null,
      "outputs": []
    }
  ]
}