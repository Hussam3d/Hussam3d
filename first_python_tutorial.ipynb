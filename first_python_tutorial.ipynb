{
  "nbformat": 4,
  "nbformat_minor": 0,
  "metadata": {
    "colab": {
      "provenance": [],
      "authorship_tag": "ABX9TyM7l8YcIGJb6BezqTUq2xJS",
      "include_colab_link": true
    },
    "kernelspec": {
      "name": "python3",
      "display_name": "Python 3"
    },
    "language_info": {
      "name": "python"
    }
  },
  "cells": [
    {
      "cell_type": "markdown",
      "metadata": {
        "id": "view-in-github",
        "colab_type": "text"
      },
      "source": [
        "<a href=\"https://colab.research.google.com/github/Hussam3d/Hussam3d/blob/main/first_python_tutorial.ipynb\" target=\"_parent\"><img src=\"https://colab.research.google.com/assets/colab-badge.svg\" alt=\"Open In Colab\"/></a>"
      ]
    },
    {
      "cell_type": "markdown",
      "source": [
        "[Goofle search](https://www.google.com)"
      ],
      "metadata": {
        "id": "Kvql8g1CE-TC"
      }
    },
    {
      "cell_type": "markdown",
      "source": [
        "# This *is* **heading**"
      ],
      "metadata": {
        "id": "7XpeyaEjMImC"
      }
    },
    {
      "cell_type": "markdown",
      "source": [
        "\n",
        "\n",
        "```\n",
        "# This is formatted as code\n",
        "\n",
        "for item in list:\n",
        "\n",
        " print(item)\n",
        "\n",
        "```\n",
        "\n"
      ],
      "metadata": {
        "id": "7GcG17fgcqOG"
      }
    },
    {
      "cell_type": "markdown",
      "source": [
        "$ax^2+bx+c=0 $"
      ],
      "metadata": {
        "id": "TDgApRMAIxR3"
      }
    },
    {
      "cell_type": "code",
      "source": [],
      "metadata": {
        "id": "hNLr3usiJA8f"
      },
      "execution_count": null,
      "outputs": []
    },
    {
      "cell_type": "markdown",
      "source": [
        "$$x1= \\frac {-b + \\sqrt (b^2-4ac)}{2ac}$$\n"
      ],
      "metadata": {
        "id": "ZIroEo2SJjar"
      }
    },
    {
      "cell_type": "code",
      "source": [
        "print\"hi\""
      ],
      "metadata": {
        "id": "951lYm_6K36s",
        "colab": {
          "base_uri": "https://localhost:8080/",
          "height": 106
        },
        "outputId": "42ffc4a0-3d6b-4d1a-ef33-686090b7f0ca"
      },
      "execution_count": 1,
      "outputs": [
        {
          "output_type": "error",
          "ename": "SyntaxError",
          "evalue": "Missing parentheses in call to 'print'. Did you mean print(...)? (<ipython-input-1-fef506d7a056>, line 1)",
          "traceback": [
            "\u001b[0;36m  File \u001b[0;32m\"<ipython-input-1-fef506d7a056>\"\u001b[0;36m, line \u001b[0;32m1\u001b[0m\n\u001b[0;31m    print\"hi\"\u001b[0m\n\u001b[0m    ^\u001b[0m\n\u001b[0;31mSyntaxError\u001b[0m\u001b[0;31m:\u001b[0m Missing parentheses in call to 'print'. Did you mean print(...)?\n"
          ]
        }
      ]
    },
    {
      "cell_type": "code",
      "source": [
        "print'hi'\n"
      ],
      "metadata": {
        "colab": {
          "base_uri": "https://localhost:8080/",
          "height": 106
        },
        "id": "Fu01W8gy6CLr",
        "outputId": "27b4e74c-0078-4846-f847-ae12eac7b3a4"
      },
      "execution_count": 2,
      "outputs": [
        {
          "output_type": "error",
          "ename": "SyntaxError",
          "evalue": "Missing parentheses in call to 'print'. Did you mean print(...)? (<ipython-input-2-b2c60e0389d8>, line 1)",
          "traceback": [
            "\u001b[0;36m  File \u001b[0;32m\"<ipython-input-2-b2c60e0389d8>\"\u001b[0;36m, line \u001b[0;32m1\u001b[0m\n\u001b[0;31m    print'hi'\u001b[0m\n\u001b[0m    ^\u001b[0m\n\u001b[0;31mSyntaxError\u001b[0m\u001b[0;31m:\u001b[0m Missing parentheses in call to 'print'. Did you mean print(...)?\n"
          ]
        }
      ]
    },
    {
      "cell_type": "code",
      "source": [
        "print (\"hi\")"
      ],
      "metadata": {
        "colab": {
          "base_uri": "https://localhost:8080/"
        },
        "id": "EQXuwN1H6HuA",
        "outputId": "e1cc2917-e6b5-4a0c-f5ef-2fc312f8fe51"
      },
      "execution_count": 3,
      "outputs": [
        {
          "output_type": "stream",
          "name": "stdout",
          "text": [
            "hi\n"
          ]
        }
      ]
    },
    {
      "cell_type": "code",
      "source": [],
      "metadata": {
        "id": "BW3bGLYQ6N4w"
      },
      "execution_count": null,
      "outputs": []
    }
  ]
}